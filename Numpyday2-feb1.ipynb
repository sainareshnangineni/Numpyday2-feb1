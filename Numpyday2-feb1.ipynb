{
 "cells": [
  {
   "cell_type": "code",
   "execution_count": null,
   "id": "65334ce5",
   "metadata": {},
   "outputs": [],
   "source": [
    "1)Creating 5*5 array no of elements & length of an array"
   ]
  },
  {
   "cell_type": "code",
   "execution_count": 11,
   "id": "5c159b84",
   "metadata": {
    "scrolled": true
   },
   "outputs": [
    {
     "name": "stdout",
     "output_type": "stream",
     "text": [
      "The Value of xis: [[ 1  2  3  4  5]\n",
      " [ 6  7  8  9 10]\n",
      " [11 12 13 14 15]\n",
      " [16 17 18 19 20]\n",
      " [21 22 23 24 25]]\n",
      "The Shape of xis: (5, 5)\n",
      "The Size of x is: 25\n",
      "THe length of the x is: 5\n",
      "5\n",
      "14\n",
      "18\n",
      "8\n",
      "24\n",
      "15\n",
      "25\n",
      "20\n",
      "13\n"
     ]
    }
   ],
   "source": [
    "import numpy as np\n",
    "\n",
    "# Create a 5x5 matrix in integer\n",
    "x = np.array([[1,2,3,4,5],\n",
    "              [6,7,8,9,10],\n",
    "              [11,12,13,14,15],\n",
    "              [16,17,18,19,20],\n",
    "              [21,22,23,24,25]])\n",
    "print(\"The Value of xis:\",x)\n",
    "print(\"The Shape of xis:\",x.shape)\n",
    "print(\"The Size of x is:\",x.size)\n",
    "print(\"THe length of the x is:\",len(x))\n",
    "print(x[0,4])\n",
    "print(x[2,3])\n",
    "print(x[3,2])\n",
    "print(x[1,2])\n",
    "print(x[4,3])\n",
    "print(x[2,4])\n",
    "print(x[4,4])\n",
    "print(x[3,4])\n",
    "print(x[2,2])\n"
   ]
  },
  {
   "cell_type": "code",
   "execution_count": 9,
   "id": "ef4b4953",
   "metadata": {},
   "outputs": [
    {
     "name": "stdout",
     "output_type": "stream",
     "text": [
      "The Value of xis: [[ 1.  2.  3.  4.  5.]\n",
      " [ 6.  7.  8.  9. 10.]\n",
      " [11. 12. 13. 14. 15.]\n",
      " [16. 17. 18. 19. 20.]\n",
      " [21. 22. 23. 24. 25.]]\n",
      "The Shape of xis: (5, 5)\n",
      "The Size of x is: 25\n",
      "THe length of the x is: 5\n",
      "5.0\n",
      "14.0\n",
      "18.0\n",
      "8.0\n",
      "24.0\n",
      "15.0\n",
      "25.0\n",
      "20.0\n",
      "13.0\n"
     ]
    }
   ],
   "source": [
    "# Create a 5x5 matrix in float\n",
    "x = np.array([[1,2,3,4,5],\n",
    "              [6,7,8,9,10],\n",
    "              [11,12,13,14,15],\n",
    "              [16,17,18,19,20],\n",
    "              [21,22,23,24,25]],dtype = float)\n",
    "print(\"The Value of xis:\",x)\n",
    "print(\"The Shape of xis:\",x.shape)\n",
    "print(\"The Size of x is:\",x.size)\n",
    "print(\"THe length of the x is:\",len(x))\n"
   ]
  },
  {
   "cell_type": "code",
   "execution_count": null,
   "id": "3b2c8632",
   "metadata": {},
   "outputs": [],
   "source": [
    "#2)acessing the elements by using row and coulmns with the helo of indexex"
   ]
  },
  {
   "cell_type": "code",
   "execution_count": 8,
   "id": "a81bfdec",
   "metadata": {},
   "outputs": [
    {
     "name": "stdout",
     "output_type": "stream",
     "text": [
      "5.0\n",
      "14.0\n",
      "18.0\n",
      "8.0\n",
      "24.0\n",
      "15.0\n",
      "25.0\n",
      "20.0\n",
      "13.0\n"
     ]
    }
   ],
   "source": [
    "x = np.array([[1,2,3,4,5],\n",
    "              [6,7,8,9,10],\n",
    "              [11,12,13,14,15],\n",
    "              [16,17,18,19,20],\n",
    "              [21,22,23,24,25]],dtype = float)\n",
    "\n",
    "print(x[0,4])\n",
    "print(x[2,3])\n",
    "print(x[3,2])\n",
    "print(x[1,2])\n",
    "print(x[4,3])\n",
    "print(x[2,4])\n",
    "print(x[4,4])\n",
    "print(x[3,4])\n",
    "print(x[2,2])\n",
    "\n"
   ]
  },
  {
   "cell_type": "code",
   "execution_count": null,
   "id": "097af7ac",
   "metadata": {},
   "outputs": [],
   "source": [
    "3)Creating the 3 d array and acessing the elemnts from 3d array"
   ]
  },
  {
   "cell_type": "code",
   "execution_count": 23,
   "id": "1a5f6db2",
   "metadata": {},
   "outputs": [
    {
     "name": "stdout",
     "output_type": "stream",
     "text": [
      "55\n",
      "22\n",
      "92\n",
      "30\n",
      "45\n",
      "43\n",
      "86\n",
      "78\n",
      "89\n",
      "22\n"
     ]
    }
   ],
   "source": [
    "x = np.array([[[12,23,55,90],[12,45,67,65]],  \n",
    "                [[13,11,55,75],[46,22,78,90]],\n",
    "                [[76,20,27,67],[89,22,43,47]],\n",
    "                [[24,90,92,68],[81,32,30,86]]])\n",
    "print(x[1,0,2])\n",
    "print(x[2,1,1])\n",
    "print(x[3,0,2])\n",
    "print(x[3,1,2])\n",
    "print(x[0,1,1])\n",
    "print(x[2,1,2])\n",
    "print(x[3,1,3])\n",
    "print(x[1,1,2])\n",
    "print(x[2,1,0])\n",
    "print(x[1,1,1])\n"
   ]
  },
  {
   "cell_type": "code",
   "execution_count": 26,
   "id": "5035f812",
   "metadata": {},
   "outputs": [
    {
     "name": "stdout",
     "output_type": "stream",
     "text": [
      "90\n",
      "78\n",
      "13\n",
      "34\n"
     ]
    }
   ],
   "source": [
    "x = np.array([[[12,23,55,90],[12,45,67,65],[12,13,14,15]],  \n",
    "                [[13,11,55,75],[46,22,78,90],[45,57,68,45]],\n",
    "                [[76,20,27,67],[89,22,43,47],[13,23,34,45]],\n",
    "                [[24,90,92,68],[81,32,30,86],[45,56,78,90]]])\n",
    "print(x[3,2,3])\n",
    "print(x[3,2,2])\n",
    "print(x[0,2,1])\n",
    "print(x[2,2,2])\n"
   ]
  },
  {
   "cell_type": "code",
   "execution_count": 31,
   "id": "890b7dc1",
   "metadata": {},
   "outputs": [
    {
     "name": "stdout",
     "output_type": "stream",
     "text": [
      "[[12 13 14 15]\n",
      " [45 57 68 45]\n",
      " [13 23 34 45]\n",
      " [45 56 78 90]]\n",
      "[[12 12 12]\n",
      " [13 46 45]\n",
      " [76 89 13]\n",
      " [24 81 45]]\n",
      "[[[12 23 55 90]\n",
      "  [12 45 67 65]\n",
      "  [12 13 14 15]]\n",
      "\n",
      " [[13 11 55 75]\n",
      "  [46 22 78 90]\n",
      "  [45 57 68 45]]\n",
      "\n",
      " [[76 20 27 67]\n",
      "  [89 22 43 47]\n",
      "  [13 23 34 45]]\n",
      "\n",
      " [[24 90 92 68]\n",
      "  [81 32 30 86]\n",
      "  [45 56 78 90]]]\n"
     ]
    }
   ],
   "source": [
    "#Slicing the elements\n",
    "print(x[:,-1,:])\n",
    "print(x[:,:,0])\n",
    "print(x[:,:,:])\n"
   ]
  },
  {
   "cell_type": "code",
   "execution_count": null,
   "id": "b0206a70",
   "metadata": {},
   "outputs": [],
   "source": [
    "4)Creating an array with 120 elements"
   ]
  },
  {
   "cell_type": "code",
   "execution_count": 41,
   "id": "34967061",
   "metadata": {},
   "outputs": [
    {
     "name": "stdout",
     "output_type": "stream",
     "text": [
      "[[  1   2   3   4   5   6   7   8   9  10  11  12]\n",
      " [ 13  14  15  16  17  18  19  20  21  22  23  24]\n",
      " [ 25  26  27  28  29  30  31  32  33  34  35  36]\n",
      " [ 37  38  39  40  41  42  43  44  45  46  47  48]\n",
      " [ 49  50  51  52  53  54  55  56  57  58  59  60]\n",
      " [ 61  62  63  64  65  66  67  68  69  70  71  72]\n",
      " [ 73  74  75  76  77  78  79  80  81  82  83  84]\n",
      " [ 85  86  87  88  89  90  91  92  93  94  95  96]\n",
      " [ 97  98  99 100 101 102 103 104 105 106 107 108]\n",
      " [109 110 111 112 113 114 115 116 117 118 119 120]]\n",
      "[[[  1   2   3   4   5   6   7   8   9  10  11  12]\n",
      "  [ 13  14  15  16  17  18  19  20  21  22  23  24]\n",
      "  [ 25  26  27  28  29  30  31  32  33  34  35  36]\n",
      "  [ 37  38  39  40  41  42  43  44  45  46  47  48]\n",
      "  [ 49  50  51  52  53  54  55  56  57  58  59  60]]\n",
      "\n",
      " [[ 61  62  63  64  65  66  67  68  69  70  71  72]\n",
      "  [ 73  74  75  76  77  78  79  80  81  82  83  84]\n",
      "  [ 85  86  87  88  89  90  91  92  93  94  95  96]\n",
      "  [ 97  98  99 100 101 102 103 104 105 106 107 108]\n",
      "  [109 110 111 112 113 114 115 116 117 118 119 120]]]\n"
     ]
    }
   ],
   "source": [
    "x=np.array([1,2,3,4,5,6,7,8,9,10,11,12,13,14,15,16,17,18,19,20,21,22,23,24,25,26,27,28,29,30,31,32,33,34,35,36,37,38,39,40,41,42,43,44,45,46,47,48,49,50,51,52,53,54,55,56,57,58,59,60,61,62,63,64,65,66,67,68,69,70,71,72,73,74,75,76,77,78,79,80,81,82,83,84,85,86,87,88,89,90,91,92,93,94,95,96,97,98,99,100,101,102,103,104,105,106,107,108,109,110,111,112,113,114,115,116,117,118,119,120])\n",
    "y= x.reshape(10,12)   #in 2d array\n",
    "\n",
    "print(y)\n",
    "z = x.reshape(2,5,12)\n",
    "print(z)   #in 3d array\n"
   ]
  },
  {
   "cell_type": "code",
   "execution_count": null,
   "id": "1c7627fd",
   "metadata": {},
   "outputs": [],
   "source": [
    "#single array to 3d  array"
   ]
  },
  {
   "cell_type": "code",
   "execution_count": 44,
   "id": "160b3081",
   "metadata": {},
   "outputs": [
    {
     "name": "stdout",
     "output_type": "stream",
     "text": [
      "[[[  1   2   3   4   5   6]\n",
      "  [  7   8   9  10  11  12]\n",
      "  [ 13  14  15  16  17  18]\n",
      "  [ 19  20  21  22  23  24]]\n",
      "\n",
      " [[ 25  26  27  28  29  30]\n",
      "  [ 31  32  33  34  35  36]\n",
      "  [ 37  38  39  40  41  42]\n",
      "  [ 43  44  45  46  47  48]]\n",
      "\n",
      " [[ 49  50  51  52  53  54]\n",
      "  [ 55  56  57  58  59  60]\n",
      "  [ 61  62  63  64  65  66]\n",
      "  [ 67  68  69  70  71  72]]\n",
      "\n",
      " [[ 73  74  75  76  77  78]\n",
      "  [ 79  80  81  82  83  84]\n",
      "  [ 85  86  87  88  89  90]\n",
      "  [ 91  92  93  94  95  96]]\n",
      "\n",
      " [[ 97  98  99 100 101 102]\n",
      "  [103 104 105 106 107 108]\n",
      "  [109 110 111 112 113 114]\n",
      "  [115 116 117 118 119 120]]]\n",
      "[[[  1   2   3   4   5   6   7   8   9  10  11  12]\n",
      "  [ 13  14  15  16  17  18  19  20  21  22  23  24]\n",
      "  [ 25  26  27  28  29  30  31  32  33  34  35  36]\n",
      "  [ 37  38  39  40  41  42  43  44  45  46  47  48]\n",
      "  [ 49  50  51  52  53  54  55  56  57  58  59  60]]\n",
      "\n",
      " [[ 61  62  63  64  65  66  67  68  69  70  71  72]\n",
      "  [ 73  74  75  76  77  78  79  80  81  82  83  84]\n",
      "  [ 85  86  87  88  89  90  91  92  93  94  95  96]\n",
      "  [ 97  98  99 100 101 102 103 104 105 106 107 108]\n",
      "  [109 110 111 112 113 114 115 116 117 118 119 120]]]\n",
      "[[[  1   2   3   4   5   6   7   8   9  10  11  12  13  14  15  16  17\n",
      "    18  19  20]\n",
      "  [ 21  22  23  24  25  26  27  28  29  30  31  32  33  34  35  36  37\n",
      "    38  39  40]]\n",
      "\n",
      " [[ 41  42  43  44  45  46  47  48  49  50  51  52  53  54  55  56  57\n",
      "    58  59  60]\n",
      "  [ 61  62  63  64  65  66  67  68  69  70  71  72  73  74  75  76  77\n",
      "    78  79  80]]\n",
      "\n",
      " [[ 81  82  83  84  85  86  87  88  89  90  91  92  93  94  95  96  97\n",
      "    98  99 100]\n",
      "  [101 102 103 104 105 106 107 108 109 110 111 112 113 114 115 116 117\n",
      "   118 119 120]]]\n"
     ]
    }
   ],
   "source": [
    "x=np.array([1,2,3,4,5,6,7,8,9,10,11,12,13,14,15,16,17,18,19,20,21,22,23,24,25,26,27,28,29,30,31,32,33,34,35,36,37,38,39,40,41,42,43,44,45,46,47,48,49,50,51,52,53,54,55,56,57,58,59,60,61,62,63,64,65,66,67,68,69,70,71,72,73,74,75,76,77,78,79,80,81,82,83,84,85,86,87,88,89,90,91,92,93,94,95,96,97,98,99,100,101,102,103,104,105,106,107,108,109,110,111,112,113,114,115,116,117,118,119,120])\n",
    "\n",
    "y = x.reshape(5,4,6)\n",
    "print(y)\n",
    "z = x.reshape(2,5,12)\n",
    "print(z)\n",
    "s = x.reshape(3,2,20)\n",
    "print(s)"
   ]
  },
  {
   "cell_type": "code",
   "execution_count": null,
   "id": "1de5ca76",
   "metadata": {},
   "outputs": [],
   "source": []
  }
 ],
 "metadata": {
  "kernelspec": {
   "display_name": "Python 3 (ipykernel)",
   "language": "python",
   "name": "python3"
  },
  "language_info": {
   "codemirror_mode": {
    "name": "ipython",
    "version": 3
   },
   "file_extension": ".py",
   "mimetype": "text/x-python",
   "name": "python",
   "nbconvert_exporter": "python",
   "pygments_lexer": "ipython3",
   "version": "3.11.4"
  }
 },
 "nbformat": 4,
 "nbformat_minor": 5
}
